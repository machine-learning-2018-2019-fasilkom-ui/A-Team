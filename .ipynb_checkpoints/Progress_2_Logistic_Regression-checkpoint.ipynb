{
 "cells": [
  {
   "cell_type": "code",
   "execution_count": 1,
   "metadata": {},
   "outputs": [],
   "source": [
    "from sklearn.feature_extraction.text import CountVectorizer"
   ]
  },
  {
   "cell_type": "code",
   "execution_count": 2,
   "metadata": {},
   "outputs": [],
   "source": [
    "data = []\n",
    "data_labels = []\n",
    "with open(\"./twitter_dataset/pos_tweets.txt\") as f:\n",
    "    for i in f: \n",
    "        data.append(i) \n",
    "        data_labels.append('pos')\n",
    "\n",
    "with open(\"./twitter_dataset/neg_tweets.txt\") as f:\n",
    "    for i in f: \n",
    "        data.append(i)\n",
    "        data_labels.append('neg')"
   ]
  },
  {
   "cell_type": "code",
   "execution_count": 3,
   "metadata": {},
   "outputs": [],
   "source": [
    "vectorizer = CountVectorizer(\n",
    "    analyzer = 'word',\n",
    "    lowercase = False,\n",
    ")\n",
    "features = vectorizer.fit_transform(\n",
    "    data\n",
    ")\n",
    "features_nd = features.toarray() # for easy usage"
   ]
  },
  {
   "cell_type": "code",
   "execution_count": 40,
   "metadata": {},
   "outputs": [],
   "source": [
    "from sklearn.model_selection import train_test_split\n",
    "\n",
    "X_train, X_test, y_train, y_test  = train_test_split(\n",
    "        features_nd, \n",
    "        data_labels,\n",
    "        test_size=0.2, \n",
    "        random_state=1234)"
   ]
  },
  {
   "cell_type": "code",
   "execution_count": 9,
   "metadata": {},
   "outputs": [],
   "source": [
    "from sklearn.linear_model import LogisticRegression\n",
    "log_model = LogisticRegression(solver='lbfgs')"
   ]
  },
  {
   "cell_type": "code",
   "execution_count": 10,
   "metadata": {},
   "outputs": [],
   "source": [
    "log_model = log_model.fit(X=X_train, y=y_train)"
   ]
  },
  {
   "cell_type": "code",
   "execution_count": 19,
   "metadata": {},
   "outputs": [],
   "source": [
    "y_pred = log_model.predict(X_test)"
   ]
  },
  {
   "cell_type": "code",
   "execution_count": 45,
   "metadata": {},
   "outputs": [
    {
     "name": "stdout",
     "output_type": "stream",
     "text": [
      "Akurasi model Logistic Regression adalah 80.0498753117207%\n"
     ]
    }
   ],
   "source": [
    "from sklearn.metrics import accuracy_score\n",
    "print(\"Akurasi model Logistic Regression adalah \" + str(accuracy_score(y_test, y_pred)*100) + \"%\")"
   ]
  },
  {
   "cell_type": "code",
   "execution_count": 41,
   "metadata": {},
   "outputs": [
    {
     "name": "stdout",
     "output_type": "stream",
     "text": [
      "neg\n",
      "\"Shame Ubisoft won't be showing Beyond Good \"\n",
      "neg\n",
      "\"@MissSydneyJ ahhhghhh..  they dont dance no mo all they do is dis.\"\n",
      "neg\n",
      "\"this ipod shuffle is not very shuffley \"\n",
      "neg\n",
      "\"Farah Fawcett \"\n",
      "pos\n",
      "\"@dornx give me time and ill come with you sa london! haha. good luck with that! \"\n",
      "neg\n",
      "\"Got a headache \"\n",
      "neg\n",
      "\"Brazilian keratin treatment apparently means no washing your hair for 4 days. It's only day two and I'm already stringy and greaser gross \"\n"
     ]
    }
   ],
   "source": [
    "### Testing menggunakan random text\n",
    "import random\n",
    "j = random.randint(0,len(X_test)-7)\n",
    "for i in range(j,j+7):\n",
    "    ind = features_nd.tolist().index(X_test[i].tolist())\n",
    "    print(y_pred[i])\n",
    "    print(data[ind].strip())\n",
    "# print(data[features_nd.tolist().index(X_test[0].tolist())])"
   ]
  },
  {
   "cell_type": "code",
   "execution_count": null,
   "metadata": {},
   "outputs": [],
   "source": []
  }
 ],
 "metadata": {
  "kernelspec": {
   "display_name": "Python 3",
   "language": "python",
   "name": "python3"
  },
  "language_info": {
   "codemirror_mode": {
    "name": "ipython",
    "version": 3
   },
   "file_extension": ".py",
   "mimetype": "text/x-python",
   "name": "python",
   "nbconvert_exporter": "python",
   "pygments_lexer": "ipython3",
   "version": "3.7.1"
  }
 },
 "nbformat": 4,
 "nbformat_minor": 2
}
